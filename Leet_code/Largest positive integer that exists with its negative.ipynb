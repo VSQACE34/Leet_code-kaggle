{
 "cells": [
  {
   "cell_type": "markdown",
   "metadata": {},
   "source": [
    "## Intuition\n",
    "so, Initially I had only 1 method to solve this problem, but later on after seeing the responses from other people who had provided their answers, I got 2 ways to solve this problem, with the 2 one have much lower time complexity than the initial solution that I had provided.\n",
    "\n",
    "\n",
    "So the basic intution behind this problem is simple, We get some vairable, which we can assign some value of -1 (so that later on we can return the variable as default value if the test fails) and then we update this vairable after comparing with the other \n",
    "## Approach\n",
    "so, in my approach, The code is shown below. The code makes intutive sense. We first converted the list to set, because set has this unique property of creating a hash table and giving unique value to each entity therby making comparisions faster. After that we initialize the variable `max_k` to -1 and then we just applied the intution as it is. \n",
    "\n",
    "the for loop iterates through the set of nums and checks if the num is positive and if it and the -num of it exits in the set. If yes, then update the value of `max_k` with that number and check through the entire set. So as expected this has a time complexity of O(n) as this will keep on going until the entire set numbers are exhausted. "
   ]
  },
  {
   "cell_type": "code",
   "execution_count": 1,
   "metadata": {},
   "outputs": [],
   "source": [
    "\n",
    "def findMaxK(nums):\n",
    "    num_set = set(nums)\n",
    "    max_k = -1\n",
    "        \n",
    "    for num in nums:\n",
    "        if num > 0 and -num in num_set:  # Check if num is positive and -num exists in the set\n",
    "            max_k = max(max_k, num)  # Update max_k if num is greater than current max_k\n",
    "        \n",
    "    return max_k\n"
   ]
  },
  {
   "cell_type": "code",
   "execution_count": 4,
   "metadata": {},
   "outputs": [
    {
     "name": "stdout",
     "output_type": "stream",
     "text": [
      "3\n",
      "7\n",
      "-1\n"
     ]
    }
   ],
   "source": [
    "print(findMaxK([-1, 2, -3, 3]))  # Output: 3\n",
    "print(findMaxK([-1, 10, 6, 7, -7, 1]))  # Output: 7\n",
    "print(findMaxK([-10, 8, 6, 7, -2, -3]))  # Output: -1"
   ]
  },
  {
   "cell_type": "code",
   "execution_count": 3,
   "metadata": {},
   "outputs": [],
   "source": [
    "\n",
    "def findMaxK(nums):\n",
    "    nums = set(nums)  # Convert list to set for O(1) lookups\n",
    "    return max((num for num in nums if num > 0 and -num in nums), default=-1)"
   ]
  },
  {
   "cell_type": "code",
   "execution_count": 5,
   "metadata": {},
   "outputs": [
    {
     "name": "stdout",
     "output_type": "stream",
     "text": [
      "3\n",
      "7\n",
      "-1\n"
     ]
    }
   ],
   "source": [
    "print(findMaxK([-1, 2, -3, 3]))  # Output: 3\n",
    "print(findMaxK([-1, 10, 6, 7, -7, 1]))  # Output: 7\n",
    "print(findMaxK([-10, 8, 6, 7, -2, -3]))  # Output: -1"
   ]
  },
  {
   "cell_type": "markdown",
   "metadata": {},
   "source": [
    "The above code is a shortened version of the code that I had made.It works too, and does give the answer as well. \n",
    "\n",
    "Below is the implementation I saw of another person and this one is actually faster than the previous one while givine the same result"
   ]
  },
  {
   "cell_type": "code",
   "execution_count": null,
   "metadata": {},
   "outputs": [],
   "source": [
    "def findMaxK(nums):\n",
    "    nums = sorted(nums)\n",
    "    head = 0\n",
    "    tail = len(nums) - 1\n",
    "    while head < tail:\n",
    "        if -nums[head] == nums[tail]:\n",
    "            return nums[tail]\n",
    "        elif -nums[head] > nums[tail]:\n",
    "            head += 1\n",
    "        else:\n",
    "            tail -= 1\n",
    "    return -1"
   ]
  },
  {
   "cell_type": "code",
   "execution_count": 6,
   "metadata": {},
   "outputs": [
    {
     "name": "stdout",
     "output_type": "stream",
     "text": [
      "3\n",
      "7\n",
      "-1\n"
     ]
    }
   ],
   "source": [
    "print(findMaxK([-1, 2, -3, 3]))  # Output: 3\n",
    "print(findMaxK([-1, 10, 6, 7, -7, 1]))  # Output: 7\n",
    "print(findMaxK([-10, 8, 6, 7, -2, -3]))  # Output: -1"
   ]
  },
  {
   "cell_type": "markdown",
   "metadata": {},
   "source": [
    "So, the intution behind this implementation is pretty genuis. As, the person, first sorted the list that is provided. Then, they used 2 variables to iterated over the list, Comparing the values from the head (the first) and the tail (the last value). This approach has a O(nlogn)"
   ]
  },
  {
   "cell_type": "markdown",
   "metadata": {},
   "source": [
    "## Complexity\n",
    "- Time complexity:\n",
    "The time complexity for my implemntation is O(n) as it traverses through the list. The other solution has a O(nlogn) time complexity as sorting the array takes that time complexity. \n",
    "\n",
    "- Space complexity:\n",
    "in Both the cases, the space complexity is O(n) (worst)\n",
    "\n",
    "\n",
    "Below is the shortened and the fastest version of the code. Note that the varible names are trimmed."
   ]
  },
  {
   "cell_type": "code",
   "execution_count": 7,
   "metadata": {},
   "outputs": [],
   "source": [
    "class Solution(object):\n",
    "    def findMaxK(self, nums):\n",
    "        n = sorted(nums)\n",
    "        h = 0\n",
    "        t = len(nums) - 1\n",
    "        while h < t:\n",
    "            if -n[h] == n[t]:\n",
    "                return n[t]\n",
    "            elif -n[h] > n[t]:\n",
    "                h += 1\n",
    "            else:\n",
    "                t -= 1\n",
    "        return -1"
   ]
  },
  {
   "cell_type": "code",
   "execution_count": 8,
   "metadata": {},
   "outputs": [
    {
     "name": "stdout",
     "output_type": "stream",
     "text": [
      "3\n",
      "7\n",
      "-1\n"
     ]
    }
   ],
   "source": [
    "sol = Solution()\n",
    "print(sol.findMaxK([-1, 2, -3, 3]))  # Output: 3\n",
    "print(sol.findMaxK([-1, 10, 6, 7, -7, 1]))  # Output: 7\n",
    "print(sol.findMaxK([-10, 8, 6, 7, -2, -3]))  # Output: -1"
   ]
  }
 ],
 "metadata": {
  "kernelspec": {
   "display_name": "Python 3",
   "language": "python",
   "name": "python3"
  },
  "language_info": {
   "codemirror_mode": {
    "name": "ipython",
    "version": 3
   },
   "file_extension": ".py",
   "mimetype": "text/x-python",
   "name": "python",
   "nbconvert_exporter": "python",
   "pygments_lexer": "ipython3",
   "version": "3.12.2"
  }
 },
 "nbformat": 4,
 "nbformat_minor": 2
}
