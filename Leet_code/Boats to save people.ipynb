{
 "cells": [
  {
   "cell_type": "markdown",
   "metadata": {},
   "source": [
    "## Question\n",
    "You are given an array people where people[i] is the weight of the ith person, and an infinite number of boats where each boat can carry a maximum weight of limit. Each boat carries at most two people at the same time, provided the sum of the weight of those people is at most limit.\n",
    "\n",
    "Return the minimum number of boats to carry every given person.\n",
    "\n",
    "Example 1:\n",
    "\n",
    "Input: people = [1,2], limit = 3\n",
    "Output: 1\n",
    "Explanation: 1 boat (1, 2)\n",
    "Example 2:\n",
    "\n",
    "Input: people = [3,2,2,1], limit = 3\n",
    "Output: 3\n",
    "Explanation: 3 boats (1, 2), (2) and (3)\n",
    "Example 3:\n",
    "\n",
    "Input: people = [3,5,3,4], limit = 5\n",
    "Output: 4\n",
    "Explanation: 4 boats (3), (3), (4), (5)\n",
    "\n",
    "\n",
    "# Intuition\n",
    "The intution behind this problem was simple. We would be using the array of people and comparing the weights with the limit. We will take 2 people at a time, and if one of them is heavy, we will just put that person in a single boat and continue with taking people 2 at a time.\n",
    "\n",
    "# Approach\n",
    "The approach for this problem was simple, we first sort the list that we will get from the user, (the `people` list) after that, we assign a head and a tail variable (here `h` and `t`)  and another variable by the name of `b` for boat. then the while loop runs comparing the people from the front and back of the array, and adding them up till we reach the center of the array where the while loop terminates. The first if function compares the sum of weights of people in head and tail of the sorted list of people. if it finds someone higher than the limit, it shifts the value to the left for tail and compares again. Once it finds the pairs that could be sent together, then it increments the value for head, and decreases the value in tail (this can be corresponded to popping the value out)\n",
    "When this happens, we are incrementing the value in the boat, which counts as effectively the person that got popped out of the list was assigned to that boat.\n",
    "\n",
    "## Complexity\n",
    "- Time complexity:\n",
    "the time complexity for this would be O(nlogn) as we are traversing the sorted list and the time complexity would get dominated by the nlogn for sorting the list.\n",
    "\n",
    "- Space complexity:\n",
    "The space complexity is O(n) worst case scenario. This is because Python's built in sort function uses Timsort which has a worst case time complexity of O(n)"
   ]
  },
  {
   "cell_type": "code",
   "execution_count": 1,
   "metadata": {},
   "outputs": [],
   "source": [
    "#the code\n",
    "class Solution(object):\n",
    "    def numRescueBoats(self, people, limit):\n",
    "        people.sort()\n",
    "        h, t = 0, len(people) - 1\n",
    "        b = 0\n",
    "        while h <= t:\n",
    "            if people[h] + people[t] <= limit:\n",
    "                h += 1\n",
    "                t -= 1\n",
    "            else:\n",
    "                t -=1\n",
    "            b += 1\n",
    "        return b"
   ]
  },
  {
   "cell_type": "code",
   "execution_count": 2,
   "metadata": {},
   "outputs": [
    {
     "name": "stdout",
     "output_type": "stream",
     "text": [
      "3\n",
      "4\n",
      "3\n"
     ]
    }
   ],
   "source": [
    "sol = Solution()\n",
    "print(sol.numRescueBoats([3,2,2,1], 3)) # outputs 3\n",
    "print(sol.numRescueBoats([3,5,3,4], 5)) # outputs 4\n",
    "print(sol.numRescueBoats([3,2,2,1], 3)) # outputs 3"
   ]
  }
 ],
 "metadata": {
  "kernelspec": {
   "display_name": "Python 3",
   "language": "python",
   "name": "python3"
  },
  "language_info": {
   "codemirror_mode": {
    "name": "ipython",
    "version": 3
   },
   "file_extension": ".py",
   "mimetype": "text/x-python",
   "name": "python",
   "nbconvert_exporter": "python",
   "pygments_lexer": "ipython3",
   "version": "3.12.2"
  }
 },
 "nbformat": 4,
 "nbformat_minor": 2
}
