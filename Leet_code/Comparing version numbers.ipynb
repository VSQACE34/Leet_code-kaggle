{
 "cells": [
  {
   "cell_type": "markdown",
   "metadata": {},
   "source": [
    "## question \n",
    "Given two version numbers, `version1` and `version2`, compare them.\n",
    "\n",
    "Version numbers consist of one or more revisions joined by a dot '.'. Each revision consists of digits and may contain leading zeros. Every revision contains at least one character. Revisions are 0-indexed from left to right, with the leftmost revision being revision 0, the next revision being revision 1, and so on. For example 2.5.33 and 0.1 are valid version numbers.\n",
    "\n",
    "To compare version numbers, compare their revisions in left-to-right order. Revisions are compared using their integer value ignoring any leading zeros. This means that revisions 1 and 001 are considered equal. If a version number does not specify a revision at an index, then treat the revision as 0. For example, version 1.0 is less than version 1.1 because their revision 0s are the same, but their revision 1s are 0 and 1 respectively, and 0 < 1.\n",
    "\n",
    "Return the following:\n",
    "\n",
    "If `version1` < `version2`, return -1.\n",
    "If `version1` > `version2`, return 1.\n",
    "Otherwise, return 0.\n",
    " \n",
    "\n",
    "Example 1:\n",
    "\n",
    "Input: `version1` = \"1.01\", `version2` = \"1.001\"\n",
    "Output: 0\n",
    "Explanation: Ignoring leading zeroes, both \"01\" and \"001\" represent the same integer \"1\".\n",
    "Example 2:\n",
    "\n",
    "Input: `version1` = \"1.0\", `version2` = \"1.0.0\"\n",
    "Output: 0\n",
    "Explanation: `version1` does not specify revision 2, which means it is treated as \"0\".\n",
    "Example 3:\n",
    "\n",
    "Input: `version1` = \"0.1\", `version2` = \"1.1\"\n",
    "Output: -1\n",
    "Explanation: `version1`'s revision 0 is \"0\", while `version2`'s revision 0 is \"1\". 0 < 1, so `version1` < `version2`.\n",
    " \n",
    "\n",
    "Constraints:\n",
    "\n",
    "1 <= `version1`.length, `version2`.length <= 500\n",
    "`version1` and `version2` only contain digits and '.'.\n",
    "`version1` and `version2` are valid version numbers.\n",
    "All the given revisions in `version1` and `version2` can be stored in a 32-bit integer.\n",
    "\n",
    "## Intuition\n",
    "The intution behind solving this question was pretty simple. So, it would be basically comparing 2 array of numbers only but the corresponing positions in the array have meaning. So, e.g. [1,2,3,4] would be smaller than [1,3,4,5] because 2 < 3. The reason for making this an array is because of the ease of comparision. And I also, made the array into int() to get rid of the \"001\" and \"01\" trouble as they would be treated as 1 if they are converted into int. \n",
    "\n",
    "## Approach\n",
    "The approach for solving this problem was pretty straight forward. First would be to use the in-built method of split() and passing the parameter '.' in the method. This would then split the string into an array consisting of numbers separated by '.' and putting them into an array. After that we convert that into int and proceed with comparisions. \n",
    "\n",
    "## Complexity\n",
    "- Time complexity:\n",
    "The time complexity of this would be O(n)\n",
    "\n",
    "- Space complexity:\n",
    "The space complexity would also be O(n)"
   ]
  },
  {
   "cell_type": "code",
   "execution_count": 1,
   "metadata": {},
   "outputs": [],
   "source": [
    "class Solution(object):\n",
    "    def compareVersion(self, version1, version2):\n",
    "        v1 = list(map(int,version1.split('.')))\n",
    "        v2 = list(map(int,version2.split('.')))\n",
    "        m = max(len(v1), len(v2))\n",
    "        for i in range(m):\n",
    "            part1 = v1[i] if i < len(v1) else 0\n",
    "            part2 = v2[i] if i < len(v2) else 0\n",
    "            if part1 > part2:\n",
    "                return 1\n",
    "            elif part1 < part2:\n",
    "                return -1\n",
    "\n",
    "        return 0"
   ]
  },
  {
   "cell_type": "code",
   "execution_count": 2,
   "metadata": {},
   "outputs": [
    {
     "name": "stdout",
     "output_type": "stream",
     "text": [
      "0\n",
      "0\n",
      "-1\n"
     ]
    }
   ],
   "source": [
    "sol = Solution()\n",
    "print(sol.compareVersion(\"1.01\", \"1.001\")) #output: 0\n",
    "print(sol.compareVersion(\"1.0\", \"1.0.0\")) #output: 0\n",
    "print(sol.compareVersion(\"0.1\", \"1.1\")) #output: -1"
   ]
  }
 ],
 "metadata": {
  "kernelspec": {
   "display_name": "Python 3",
   "language": "python",
   "name": "python3"
  },
  "language_info": {
   "codemirror_mode": {
    "name": "ipython",
    "version": 3
   },
   "file_extension": ".py",
   "mimetype": "text/x-python",
   "name": "python",
   "nbconvert_exporter": "python",
   "pygments_lexer": "ipython3",
   "version": "3.12.2"
  }
 },
 "nbformat": 4,
 "nbformat_minor": 2
}
