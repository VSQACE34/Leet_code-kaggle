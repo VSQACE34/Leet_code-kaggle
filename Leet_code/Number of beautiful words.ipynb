{
 "cells": [
  {
   "cell_type": "markdown",
   "metadata": {},
   "source": [
    "## Approach\n",
    "so, I had to use chatgpt to solve this problem as I had never used bit mask before. So, as it was explained by it, what it did was to make first the counter variable `count = {0:1}` this was followed by initializing the `bitwise` variable and `result` variable. Now, the first thing that we did here was we used XOR operation. XOR, in Logic gates at least stands for eXclusive OR, and gives a result of 0 when it is operated with 0 and 1 otherwise. So, atleast in terms of Logic Gates, it is shown by the following table: -\n",
    "\n",
    "| A | B | Output (A xor B) |\n",
    "| :---: | :---: | :---: |\n",
    "| 0 | 0 | 0 |\n",
    "| 0 | 1 | 1 | \n",
    "| 1 | 0 | 1 |\n",
    "| 1 | 1 | 0 |\n",
    "\n",
    "As such the code \n",
    "`bitwise ^= 1<<(ord(ch) - ord('a'))`\n",
    "would increment the position of the difference achieved from the value of the letter with a. So let us say for example, if we have the character 'a' in our word, then the code would get executed as follows\n",
    "`bitwise = bitwise ^ (1<<(ord('a') - ord('a'))`\n",
    "and that would give \n",
    "`bitwise = bitwise ^ (1<<0)`\n",
    "which would translate to operate 1 on the 0th position of bitwise vairable. which contains 0000000000 (10 zeroes). So, after the xor operation, the units place would become 1 (since xor of 0 and 1 is 1)\n",
    "so bitwise gets incremented the result of 0000000001.\n",
    "\n",
    "similarly, let us say if we had 'j' instead of 'a' we would have got, \n",
    "1<<(ord('j')- ord('a')) or 1<<9 or perform xor in the 9th position to get \n",
    "\n",
    "0100000001 = 513\n",
    "(given we have taken the word to be aj)"
   ]
  },
  {
   "cell_type": "code",
   "execution_count": 14,
   "metadata": {},
   "outputs": [
    {
     "name": "stdout",
     "output_type": "stream",
     "text": [
      "513\n"
     ]
    }
   ],
   "source": [
    "count = {0:1}\n",
    "bitwise = 0\n",
    "result = 0 \n",
    "for ch in 'aj':\n",
    "    bitwise ^= 1<<(ord(ch) - ord('a'))\n",
    "print(bitwise)"
   ]
  },
  {
   "cell_type": "markdown",
   "metadata": {},
   "source": [
    "Now we move to the count.get() method which retrives the instance of finding the bitwise operator. So, previously we had the bitwise operator as 0000000001 (for a), and it will retrive the instance of finding it. Since that operator is unique, it will return the value of 0 which is the default value.\n",
    "\n",
    "\n",
    "So, the general principle for this code was that we only want 1 character with odd frequencies. It is okay to get more than one even frequencies, so if we get another character which is present in the dictionary of `count` all other subsets of the word would be classified as a wonderful word. This intution is represented by the code using the `tmp_bitwise` variable. The result would get incrimented if any tmp_bitwise vairable is found again on the dictonary. \n",
    "\n",
    "atlast we make a dictionary for that bitwise operator and increment the value of the occurence for that bitwise variable with 1 if it is the first time we see it. The code for this entire operation is given below, taking the example case of 'abj'"
   ]
  },
  {
   "cell_type": "code",
   "execution_count": 1,
   "metadata": {},
   "outputs": [
    {
     "name": "stdout",
     "output_type": "stream",
     "text": [
      "3\n"
     ]
    }
   ],
   "source": [
    "count = {0:1}\n",
    "bitwise = 0\n",
    "result = 0 \n",
    "for ch in 'abj':\n",
    "    bitwise ^= 1<<(ord(ch) - ord('a'))\n",
    "    result += count.get(bitwise,0)\n",
    "    for i in range(10):\n",
    "        tmp_bitwise = bitwise ^ (1<<i)\n",
    "        result += count.get(tmp_bitwise,0)\n",
    "\n",
    "    count[bitwise] = count.get(bitwise,0) + 1\n",
    "print(result)"
   ]
  },
  {
   "cell_type": "markdown",
   "metadata": {},
   "source": [
    "This result of 3 comes from a , b , j but no other combinations of this word i.e. ab, bj, aj and abj are considered beautiful word because they would then have 2 or more characters with odd number of repetitions (i.e. a:1, b:1 not wonderful word)"
   ]
  },
  {
   "cell_type": "markdown",
   "metadata": {},
   "source": [
    "## Complexity\n",
    "- Time complexity:\n",
    "The time complexity for this would be, O(n). The outer loop which iterates over the characters in the word that would be provided would be the number of characters present in the word. The inner loop, would always run for the range of 10 no matter what. hence the time complexity becomes \n",
    "\n",
    "O(n) * O(10 = O(10n) = O(n)\n",
    "\n",
    "- Space complexity:\n",
    "The space complexity for this is O(1) considering the fact that it was provided in the question that it the limit of the characters are fixed (O(2*10) = O(1024) = O(1) constant)\n",
    "\n",
    "Hence space complexity is O(1)"
   ]
  },
  {
   "cell_type": "markdown",
   "metadata": {},
   "source": [
    "Here, we implement a shortened version of the code from above this is done to reduce the runtime as I found that getting rid of the comments and other doc strings decreases the run time"
   ]
  },
  {
   "cell_type": "code",
   "execution_count": 9,
   "metadata": {},
   "outputs": [],
   "source": [
    "def wonderfulSubstrings(word):\n",
    "    c = {0:1}\n",
    "    b = 0\n",
    "    r = 0 \n",
    "    for ch in word:\n",
    "        b ^= 1<<(ord(ch) - ord('a'))\n",
    "        r += c.get(b,0)\n",
    "        for i in range(10):\n",
    "            t = b ^ (1<<i)\n",
    "            r += c.get(t,0)\n",
    "\n",
    "        c[b] = c.get(b,0) + 1\n",
    "    return r"
   ]
  },
  {
   "cell_type": "code",
   "execution_count": 8,
   "metadata": {},
   "outputs": [
    {
     "data": {
      "text/plain": [
       "5"
      ]
     },
     "execution_count": 8,
     "metadata": {},
     "output_type": "execute_result"
    }
   ],
   "source": [
    "wonderfulSubstrings(\"aab\")"
   ]
  },
  {
   "cell_type": "markdown",
   "metadata": {},
   "source": [
    "'a', 'aa', 'a', 'b' and 'aab' are the wonderful words"
   ]
  }
 ],
 "metadata": {
  "kernelspec": {
   "display_name": "Python 3",
   "language": "python",
   "name": "python3"
  },
  "language_info": {
   "codemirror_mode": {
    "name": "ipython",
    "version": 3
   },
   "file_extension": ".py",
   "mimetype": "text/x-python",
   "name": "python",
   "nbconvert_exporter": "python",
   "pygments_lexer": "ipython3",
   "version": "3.12.2"
  }
 },
 "nbformat": 4,
 "nbformat_minor": 2
}
