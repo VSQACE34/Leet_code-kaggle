{
 "cells": [
  {
   "cell_type": "markdown",
   "metadata": {},
   "source": [
    "## Intuition\n",
    "So the first intution for this code was to actually use the idea of using bitmask. Since in the question it was already provided that there would be only 10 characters. \n",
    "\n",
    "## Approach\n",
    "so, I had to use chatgpt to solve this problem as I had never used bit mask before. So, as it was explained by it, what it did was to make first the counter variable `count = {0:1}` this was followed by initializing the `bitwise` variable and `result` variable. Now, the first thing that we did here was we used XOR operation. XOR, in Logic gates at least stands for eXclusive OR, and gives a result of 0 when it is operated with 0 and 1 otherwise. So, atleast in terms of Logic Gates, it is shown by the following table: -\n",
    "\n",
    "| A | B | Output (A xor B) |\n",
    "| :---: | :---: | :---: |\n",
    "| 0 | 0 | 0 |\n",
    "| 0 | 1 | 1 | \n",
    "| 1 | 0 | 1 |\n",
    "| 1 | 1 | 0 |\n",
    "\n",
    "As such the code \n",
    "`bitwise ^= 1<<(ord(ch) - ord('a'))`\n",
    "would increment the position of the difference achieved from the value of the letter with a. So let us say for example, if we have the character 'a' in our word, then the code would get executed as follows\n",
    "`bitwise = bitwise ^ (1<<(ord('a') - ord('a'))`\n",
    "and that would give \n",
    "`bitwise = bitwise ^ (1<<0)`\n",
    "which would translate to operate 1 on the 0th position of bitwise vairable. which contains 0000000000 (10 zeroes). So, after the xor operation, the units place would become 1 (since xor of 0 and 1 is 1)\n",
    "so bitwise gets incremented the result of 0000000001.\n",
    "\n",
    "similarly, let us say if we had 'j' instead of 'a' we would have got, \n",
    "1<<(ord('j')- ord('a')) or 1<<9 or perform xor in the 9th position to get \n",
    "0100000001 = 513\n",
    "(given we have taken the word to be aj)"
   ]
  },
  {
   "cell_type": "code",
   "execution_count": 14,
   "metadata": {},
   "outputs": [
    {
     "name": "stdout",
     "output_type": "stream",
     "text": [
      "513\n"
     ]
    }
   ],
   "source": [
    "count = {0:1}\n",
    "bitwise = 0\n",
    "result = 0 \n",
    "for ch in 'aj':\n",
    "    bitwise ^= 1<<(ord(ch) - ord('a'))\n",
    "print(bitwise)"
   ]
  },
  {
   "cell_type": "markdown",
   "metadata": {},
   "source": [
    "## Complexity\n",
    "- Time complexity:\n",
    "<!-- Add your time complexity here, e.g. $$O(n)$$ -->\n",
    "\n",
    "- Space complexity:\n",
    "<!-- Add your space complexity here, e.g. $$O(n)$$ -->"
   ]
  },
  {
   "cell_type": "code",
   "execution_count": 9,
   "metadata": {},
   "outputs": [],
   "source": [
    "def wonderfulSubstrings(word):\n",
    "    c = {0:1}\n",
    "    b = 0\n",
    "    r = 0 \n",
    "    for ch in word:\n",
    "        b ^= 1<<(ord(ch) - ord('a'))\n",
    "        r += c.get(b,0)\n",
    "        for i in range(10):\n",
    "            t = b ^ (1<<i)\n",
    "            r += c.get(t,0)\n",
    "\n",
    "        c[b] = c.get(b,0) + 1\n",
    "    return r"
   ]
  },
  {
   "cell_type": "code",
   "execution_count": 8,
   "metadata": {},
   "outputs": [
    {
     "data": {
      "text/plain": [
       "5"
      ]
     },
     "execution_count": 8,
     "metadata": {},
     "output_type": "execute_result"
    }
   ],
   "source": [
    "wonderfulSubstrings(\"aab\")"
   ]
  },
  {
   "cell_type": "code",
   "execution_count": null,
   "metadata": {},
   "outputs": [],
   "source": []
  }
 ],
 "metadata": {
  "kernelspec": {
   "display_name": "Python 3",
   "language": "python",
   "name": "python3"
  },
  "language_info": {
   "codemirror_mode": {
    "name": "ipython",
    "version": 3
   },
   "file_extension": ".py",
   "mimetype": "text/x-python",
   "name": "python",
   "nbconvert_exporter": "python",
   "pygments_lexer": "ipython3",
   "version": "3.12.2"
  }
 },
 "nbformat": 4,
 "nbformat_minor": 2
}
